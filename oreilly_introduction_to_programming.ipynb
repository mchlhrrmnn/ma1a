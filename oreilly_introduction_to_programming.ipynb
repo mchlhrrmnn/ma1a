{
  "nbformat": 4,
  "nbformat_minor": 0,
  "metadata": {
    "colab": {
      "provenance": [],
      "authorship_tag": "ABX9TyPgAeG7nlOFPy8jiheYSa+p",
      "include_colab_link": true
    },
    "kernelspec": {
      "name": "python3",
      "display_name": "Python 3"
    },
    "language_info": {
      "name": "python"
    }
  },
  "cells": [
    {
      "cell_type": "markdown",
      "metadata": {
        "id": "view-in-github",
        "colab_type": "text"
      },
      "source": [
        "<a href=\"https://colab.research.google.com/github/mchlhrrmnn/ma1a/blob/main/oreilly_introduction_to_programming.ipynb\" target=\"_parent\"><img src=\"https://colab.research.google.com/assets/colab-badge.svg\" alt=\"Open In Colab\"/></a>"
      ]
    },
    {
      "cell_type": "markdown",
      "source": [
        "Beispiele aus\n",
        "https://learning.oreilly.com/course/introduction-to-programming/9781836204718/"
      ],
      "metadata": {
        "id": "4AItO-z2KvPR"
      }
    },
    {
      "cell_type": "code",
      "execution_count": null,
      "metadata": {
        "colab": {
          "base_uri": "https://localhost:8080/"
        },
        "id": "TbrcgLryKpTB",
        "outputId": "5ccff11d-e167-4c6c-cfbb-8bc7e1daa780"
      },
      "outputs": [
        {
          "output_type": "stream",
          "name": "stdout",
          "text": [
            "<class 'int'> 43\n"
          ]
        }
      ],
      "source": [
        "Ganzzahl = 42 #integer\n",
        "Kommazahl = 3.14 #float\n",
        "Zeichenkette = \"Hallo Welt\" #string\n",
        "Wahrheitswert = True #boolen\n",
        "\n",
        "zweiteGanzzahl = Ganzzahl = 23\n",
        "zweiteGanzzahl, Ganzzahl = 1, 2\n",
        "\n",
        "Ganzzahl = int(\"42\") #string zu int, cast to float per \"float()\", \"str()\"...\n",
        "print(type(Ganzzahl), Ganzzahl+1) #type anzeigen\n"
      ]
    },
    {
      "cell_type": "markdown",
      "source": [
        "## (2) Listen"
      ],
      "metadata": {
        "id": "s8KLSbSuxOav"
      }
    },
    {
      "cell_type": "code",
      "source": [
        "from pickle import TRUE\n",
        "liste = ['Hund','Katze','Maus'] #list object\n",
        "liste[0] # fängt mit 0 an!\n",
        "print(len(liste)) #len für Dimension\n",
        "print(len(liste[1])) #len für Länge des 2.Strings\n",
        "liste[1] = 'Tiger' #Update, \"Katze\" ersetzen\n",
        "liste.append('Einhorn') #anfügen\n",
        "oben = liste.pop() #letztes=oberstes Element, Achtung: Liste dadurch geändert!\n",
        "# liste.sort() #sortieren _mit_ Original ändern\n",
        "sort_liste=sorted(liste, reverse=True) #sortien _ohne_ Original zu ändern\n",
        "reversed_list = list(reversed(liste))\n",
        "print(reversed_list)\n",
        "\n",
        "print(liste[1:2]) # GOTCHA: Nr. 2 EX-klusive\n",
        "abc=list('ABCDEFG')\n",
        "print(abc)\n",
        "print(abc[0::2]) #slicing: jedes ZWEITE nehmen:\n",
        "\n",
        "liste = [ list(range(2,3)), list(range(4)) ]\n",
        "print(liste)"
      ],
      "metadata": {
        "colab": {
          "base_uri": "https://localhost:8080/"
        },
        "id": "9FCUps9LLbVm",
        "outputId": "70407ebc-bae4-4392-98e6-c6facaa95e10"
      },
      "execution_count": null,
      "outputs": [
        {
          "output_type": "stream",
          "name": "stdout",
          "text": [
            "3\n",
            "5\n",
            "['Maus', 'Tiger', 'Hund']\n",
            "['Tiger']\n",
            "['A', 'B', 'C', 'D', 'E', 'F', 'G']\n",
            "['A', 'C', 'E', 'G']\n",
            "[[2], [0, 1, 2, 3]]\n",
            "2\n"
          ]
        }
      ]
    },
    {
      "cell_type": "markdown",
      "source": [
        "## (3) Operatoren"
      ],
      "metadata": {
        "id": "LN7VWVbzCh2g"
      }
    },
    {
      "cell_type": "code",
      "source": [
        "myfloat = 3.1415\n",
        "print(myfloat // 2) #integer division -> floor, Ergebnis ist float\n",
        "print(11 % 3) # 11:3 = 3, Rest: 2\n",
        "print(\"Hallo\" + \"Welt\") #concat (ohne Blank, natürlich)\n",
        "print(\"#\" * 50) #wiederholen\n",
        "print(1 == 2) #vergleichen versus \"=\" fürs zuweisen\n",
        "print(\"Spatz\" in ['Hund','Katze','Maus'] ) #in -> False\n",
        "print(\"Spatz\" not in ['Hund','Katze','Maus'] ) #not -> True\n",
        "print( ['Hund','Katze','Maus'] == ['Hund','Katze','Maus'] ) #== -> True\n",
        "print( ['Hund','Katze','Maus'] is ['Hund','Katze','Maus'] ) #is -> False (not same location!!)\n",
        "\n",
        "if 1 == 2:\n",
        "    print(\"True\") #Blockbildung über Einrückung mit Doppelpunkt!\n",
        "elif 1 == 1: #else-if\n",
        "    print(\"elif\")\n",
        "else:\n",
        "    print(\"False\")\n"
      ],
      "metadata": {
        "colab": {
          "base_uri": "https://localhost:8080/"
        },
        "id": "BkVcWOUe6ye9",
        "outputId": "88e3cecc-ad49-4274-93db-1f4a71c1b656"
      },
      "execution_count": null,
      "outputs": [
        {
          "output_type": "stream",
          "name": "stdout",
          "text": [
            "1.0\n",
            "2\n",
            "HalloWelt\n",
            "##################################################\n",
            "False\n",
            "False\n",
            "True\n",
            "True\n",
            "False\n",
            "elif\n"
          ]
        }
      ]
    },
    {
      "cell_type": "markdown",
      "source": [
        "## (3) Loops"
      ],
      "metadata": {
        "id": "E9E0snlXTcXM"
      }
    },
    {
      "cell_type": "code",
      "source": [
        "liste = ['Hund','Katze','Maus'] #list object\n",
        "for index, jedes in enumerate(liste): #enumerate nötig für index!\n",
        "    print(index, jedes)\n",
        "    if jedes == 'Katze':\n",
        "      break #Abbruch der Schleife\n",
        "print(jedes,'\\n')\n",
        "\n",
        "index = 0\n",
        "while index < len(liste):\n",
        "    print(liste[index])\n",
        "    index += 1"
      ],
      "metadata": {
        "colab": {
          "base_uri": "https://localhost:8080/"
        },
        "id": "q2lWkpk9xgAg",
        "outputId": "fe28cd56-f31b-401e-feb0-7a9dc9085f27"
      },
      "execution_count": null,
      "outputs": [
        {
          "output_type": "stream",
          "name": "stdout",
          "text": [
            "0 Hund\n",
            "1 Katze\n",
            "Katze \n",
            "\n",
            "Hund\n",
            "Katze\n",
            "Maus\n"
          ]
        }
      ]
    },
    {
      "cell_type": "markdown",
      "source": [
        "## (4) File Handling"
      ],
      "metadata": {
        "id": "hWREF8Itw7xG"
      }
    },
    {
      "cell_type": "code",
      "source": [
        "file = open(\"/content/sample_data/california_housing_test.csv\",'r')\n",
        "#for line in file:\n",
        "    # print(line)\n",
        "#oder:\n",
        "file.seek(0)\n",
        "text=file.read()\n",
        "# print(text)\n",
        "\n",
        "i = 0\n",
        "file.close() # nicht nötig wenn man mit with arbeitet:\n",
        "with open(\"/content/sample_data/california_housing_test.csv\",'r') as file:\n",
        "    for line in file:\n",
        "        if i < 10:\n",
        "          print(line)\n",
        "          i +=1\n",
        "\n",
        "nummer = 42\n",
        "eingabe = input(\"Ihre Lieblingszahl: \")\n",
        "print(\"42 + {} = {}\".format(eingabe, nummer+int(eingabe)))"
      ],
      "metadata": {
        "colab": {
          "base_uri": "https://localhost:8080/"
        },
        "id": "rE2IlLLnUSj2",
        "outputId": "62db8537-4a2e-4bd7-be69-1c104c7e671f"
      },
      "execution_count": null,
      "outputs": [
        {
          "output_type": "stream",
          "name": "stdout",
          "text": [
            "\"longitude\",\"latitude\",\"housing_median_age\",\"total_rooms\",\"total_bedrooms\",\"population\",\"households\",\"median_income\",\"median_house_value\"\n",
            "\n",
            "-122.050000,37.370000,27.000000,3885.000000,661.000000,1537.000000,606.000000,6.608500,344700.000000\n",
            "\n",
            "-118.300000,34.260000,43.000000,1510.000000,310.000000,809.000000,277.000000,3.599000,176500.000000\n",
            "\n",
            "-117.810000,33.780000,27.000000,3589.000000,507.000000,1484.000000,495.000000,5.793400,270500.000000\n",
            "\n",
            "-118.360000,33.820000,28.000000,67.000000,15.000000,49.000000,11.000000,6.135900,330000.000000\n",
            "\n",
            "-119.670000,36.330000,19.000000,1241.000000,244.000000,850.000000,237.000000,2.937500,81700.000000\n",
            "\n",
            "-119.560000,36.510000,37.000000,1018.000000,213.000000,663.000000,204.000000,1.663500,67000.000000\n",
            "\n",
            "-121.430000,38.630000,43.000000,1009.000000,225.000000,604.000000,218.000000,1.664100,67000.000000\n",
            "\n",
            "-120.650000,35.480000,19.000000,2310.000000,471.000000,1341.000000,441.000000,3.225000,166900.000000\n",
            "\n",
            "-122.840000,38.400000,15.000000,3080.000000,617.000000,1446.000000,599.000000,3.669600,194400.000000\n",
            "\n",
            "Ihre Lieblingszahl: 7\n",
            "42 + 7 = 49\n"
          ]
        }
      ]
    },
    {
      "cell_type": "markdown",
      "source": [
        "## (5) Funktions"
      ],
      "metadata": {
        "id": "cpYo4_W3xA6I"
      }
    },
    {
      "cell_type": "code",
      "source": [
        "#def Beispiel(*,my_Key1,myKey2) #positional vs. keyword, alles vor dem Stern positional\n",
        "def Hallo(was=None): #default value, keyword vs. positional\n",
        "  if was is None:\n",
        "    was = \"Welt\"\n",
        "  print(\"Hallo\",was)\n",
        "\n",
        "def Example(*args, **kwargs): #kwargs=KeyWordARGumentS\n",
        "  print(args)\n",
        "  print(kwargs)\n",
        "  for arg in args:\n",
        "    print(arg)\n",
        "  for key in kwargs:\n",
        "    print(key, \"=\", kwargs[key])\n",
        "\n",
        "def main():\n",
        "  Hallo()\n",
        "  Hallo(\"zusammen\")\n",
        "  Example(1, 2, 3, eins=\"1\", zwei=\"2\")\n",
        "  Example(3, 2, 1, zwei=\"2\", eins=\"1\")\n",
        "\n",
        "if __name__ == '__main__': #nur aufrufen, wenn main, also nicht per \"import\" included\n",
        "  main()"
      ],
      "metadata": {
        "id": "D-RPDu-AxXaS",
        "colab": {
          "base_uri": "https://localhost:8080/"
        },
        "outputId": "e3d9b283-86ad-45e2-8539-ebb331b754d1"
      },
      "execution_count": 6,
      "outputs": [
        {
          "output_type": "stream",
          "name": "stdout",
          "text": [
            "Hallo Welt\n",
            "Hallo zusammen\n",
            "(1, 2, 3)\n",
            "{'eins': '1', 'zwei': '2'}\n",
            "1\n",
            "2\n",
            "3\n",
            "eins = 1\n",
            "zwei = 2\n",
            "(3, 2, 1)\n",
            "{'zwei': '2', 'eins': '1'}\n",
            "3\n",
            "2\n",
            "1\n",
            "zwei = 2\n",
            "eins = 1\n"
          ]
        }
      ]
    },
    {
      "cell_type": "markdown",
      "source": [
        "## (6) Exceptions"
      ],
      "metadata": {
        "id": "WMFWXWCpWBxa"
      }
    },
    {
      "cell_type": "code",
      "source": [
        "total = 4\n",
        "count = 0\n",
        "try:\n",
        "  average = total / count\n",
        "except ZeroDivisionError as crowbar:\n",
        "  print('Cannot divide by zero', crowbar)\n",
        "finally:\n",
        "  print('hier schnell noch etwas tun vor dem Programmende')\n",
        "\n",
        "print('hier gehts normal weiter')"
      ],
      "metadata": {
        "id": "S7R9unnryrNS",
        "colab": {
          "base_uri": "https://localhost:8080/"
        },
        "outputId": "12746f03-51d5-483f-b693-75fe41547d2a"
      },
      "execution_count": 12,
      "outputs": [
        {
          "output_type": "stream",
          "name": "stdout",
          "text": [
            "Cannot divide by zero division by zero\n",
            "hier schnell noch etwas tun vor dem Programmende\n",
            "hier gehts normal weiter\n"
          ]
        }
      ]
    },
    {
      "cell_type": "markdown",
      "source": [
        "## (7) OS stuff"
      ],
      "metadata": {
        "id": "aB_kWyNQdjDj"
      }
    },
    {
      "cell_type": "code",
      "source": [
        "import os\n",
        "os.chdir('/content')\n",
        "current_directory = os.getcwd()\n",
        "print(current_directory)\n",
        "directory_files = os.listdir(os.path.join(current_directory, 'sample_data'))\n",
        "print(directory_files)\n",
        "filepath = os.path.join(current_directory, 'sample_data')\n",
        "print(filepath)\n",
        "exception_stats = os.stat(filepath)\n",
        "print(exception_stats)"
      ],
      "metadata": {
        "colab": {
          "base_uri": "https://localhost:8080/"
        },
        "id": "w2PW0rnhWQc7",
        "outputId": "e7f3dd19-1cea-465b-cb4c-23df465b2fd1"
      },
      "execution_count": 28,
      "outputs": [
        {
          "output_type": "stream",
          "name": "stdout",
          "text": [
            "/content\n",
            "['anscombe.json', 'README.md', 'california_housing_test.csv', 'california_housing_train.csv', 'mnist_train_small.csv', 'mnist_test.csv']\n",
            "/content/sample_data\n",
            "os.stat_result(st_mode=16877, st_ino=1835015, st_dev=53, st_nlink=1, st_uid=0, st_gid=0, st_size=4096, st_atime=1734620843, st_mtime=1734618043, st_ctime=1734620843)\n"
          ]
        }
      ]
    },
    {
      "cell_type": "markdown",
      "source": [
        "## (8) Datetime & co"
      ],
      "metadata": {
        "id": "MRqsHNdSg-dV"
      }
    },
    {
      "cell_type": "code",
      "source": [
        "from datetime import datetime\n",
        "today = datetime.now()\n",
        "geburtstag = datetime(1968,8,3)\n",
        "print(\"Alter:\", today - geburtstag)"
      ],
      "metadata": {
        "colab": {
          "base_uri": "https://localhost:8080/"
        },
        "id": "BheIfflbd4dy",
        "outputId": "8a941765-15f4-4d60-baf6-6d7c1f257a1b"
      },
      "execution_count": 34,
      "outputs": [
        {
          "output_type": "stream",
          "name": "stdout",
          "text": [
            "Alter: 20600 days, 9:51:25.538999\n"
          ]
        }
      ]
    },
    {
      "cell_type": "code",
      "source": [],
      "metadata": {
        "id": "3mEaH16pg6f9"
      },
      "execution_count": null,
      "outputs": []
    }
  ]
}