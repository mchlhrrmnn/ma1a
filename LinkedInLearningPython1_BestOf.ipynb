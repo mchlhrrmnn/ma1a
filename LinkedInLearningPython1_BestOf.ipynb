{
  "nbformat": 4,
  "nbformat_minor": 0,
  "metadata": {
    "colab": {
      "provenance": [],
      "authorship_tag": "ABX9TyPfHGnYpVxBDLStdqH8hv5f",
      "include_colab_link": true
    },
    "kernelspec": {
      "name": "python3",
      "display_name": "Python 3"
    },
    "language_info": {
      "name": "python"
    }
  },
  "cells": [
    {
      "cell_type": "markdown",
      "metadata": {
        "id": "view-in-github",
        "colab_type": "text"
      },
      "source": [
        "<a href=\"https://colab.research.google.com/github/mchlhrrmnn/ma1a/blob/main/LinkedInLearningPython1_BestOf.ipynb\" target=\"_parent\"><img src=\"https://colab.research.google.com/assets/colab-badge.svg\" alt=\"Open In Colab\"/></a>"
      ]
    },
    {
      "cell_type": "markdown",
      "source": [
        "Quelle: https://www.linkedin.com/learning-login/share?account=2101305&forceAccount=false&redirect=https%3A%2F%2Fwww.linkedin.com%2Flearning%2Flearning-python-14393370%3Ftrk%3Dshare_ent_url%26shareId%3DMRCAyrwmS1OFidyItdNl1Q%253D%253D"
      ],
      "metadata": {
        "id": "nkFjmz6ZxvMP"
      }
    },
    {
      "cell_type": "markdown",
      "source": [
        "## (1) Data Types"
      ],
      "metadata": {
        "id": "IgKGe-GFvRNC"
      }
    },
    {
      "cell_type": "code",
      "execution_count": null,
      "metadata": {
        "colab": {
          "base_uri": "https://localhost:8080/",
          "height": 453
        },
        "id": "DCXwu01IvOV3",
        "outputId": "07a12e68-0d31-4fe6-f334-03a4e820f1bb"
      },
      "outputs": [
        {
          "output_type": "stream",
          "name": "stdout",
          "text": [
            "5\n",
            "13.2\n",
            "This is a string\n",
            "True\n",
            "[0, 1, 'two', 3.2, False]\n",
            "(0, 1, 2)\n",
            "{'one': 1, 'two': 2}\n",
            "abc\n",
            "two\n",
            "1\n",
            "[1, 3.2]\n",
            "[False, 3.2, 'two', 1, 0]\n",
            "1\n",
            "string type 123\n",
            "def\n",
            "This is a string\n"
          ]
        },
        {
          "output_type": "error",
          "ename": "NameError",
          "evalue": "name 'mystr' is not defined",
          "traceback": [
            "\u001b[0;31m---------------------------------------------------------------------------\u001b[0m",
            "\u001b[0;31mNameError\u001b[0m                                 Traceback (most recent call last)",
            "\u001b[0;32m<ipython-input-1-ec80b50b4f39>\u001b[0m in \u001b[0;36m<cell line: 53>\u001b[0;34m()\u001b[0m\n\u001b[1;32m     51\u001b[0m \u001b[0;34m\u001b[0m\u001b[0m\n\u001b[1;32m     52\u001b[0m \u001b[0;32mdel\u001b[0m \u001b[0mmystr\u001b[0m\u001b[0;34m\u001b[0m\u001b[0;34m\u001b[0m\u001b[0m\n\u001b[0;32m---> 53\u001b[0;31m \u001b[0mprint\u001b[0m \u001b[0;34m(\u001b[0m\u001b[0mmystr\u001b[0m\u001b[0;34m)\u001b[0m\u001b[0;34m\u001b[0m\u001b[0;34m\u001b[0m\u001b[0m\n\u001b[0m",
            "\u001b[0;31mNameError\u001b[0m: name 'mystr' is not defined"
          ]
        }
      ],
      "source": [
        "#\n",
        "# Example file for variables\n",
        "# LinkedIn Learning Python course by Joe Marini\n",
        "#\n",
        "\n",
        "\n",
        "# Basic data types in Python: Numbers, Strings, Booleans, Sequences, Dictionaries\n",
        "myint = 5\n",
        "myfloat = 13.2\n",
        "mystr = \"This is a string\"\n",
        "mybool = True\n",
        "mylist = [0, 1, \"two\", 3.2, False]\n",
        "mytuple = (0, 1, 2)\n",
        "mydict = {\"one\" : 1, \"two\" : 2}\n",
        "\n",
        "print(myint)\n",
        "print(myfloat)\n",
        "print(mystr)\n",
        "print(mybool)\n",
        "print(mylist)\n",
        "print(mytuple)\n",
        "print(mydict)\n",
        "\n",
        "# re-declaring a variable works\n",
        "myint = \"abc\"\n",
        "print (myint)\n",
        "\n",
        "# to access a member of a sequence type, use []\n",
        "print(mylist[2])\n",
        "print(mytuple[1])\n",
        "# use slices to get parts of a sequence\n",
        "print(mylist[1:4:2])\n",
        "# you can use slices to reverse a sequence\n",
        "print(mylist[::-1])\n",
        "\n",
        "# dictionaries are accessed via keys\n",
        "print(mydict[\"one\"])\n",
        "\n",
        "# ERROR: variables of different types cannot be combined\n",
        "#print (\"string type \" + 123)\n",
        "print (\"string type \" + str(123))\n",
        "\n",
        "# Global vs. local variables in functions\n",
        "def someFunction():\n",
        "    #global mystr\n",
        "    mystr = \"def\"\n",
        "    print (mystr)\n",
        "\n",
        "someFunction()\n",
        "print (mystr)\n",
        "\n",
        "del mystr\n",
        "print (mystr)"
      ]
    },
    {
      "cell_type": "markdown",
      "source": [
        "## (2) Conditions"
      ],
      "metadata": {
        "id": "C9d-Eg9zYFgh"
      }
    },
    {
      "cell_type": "code",
      "source": [
        "#\n",
        "# Example file for working with conditional statements\n",
        "# LinkedIn Learning Python course by Joe Marini\n",
        "#\n",
        "\n",
        "\n",
        "\n",
        "def main():\n",
        "    x, y = 10, 100\n",
        "\n",
        "    # conditional flow uses if, elif, else\n",
        "    if x < y:\n",
        "        result = \"x is less than y\"\n",
        "    elif x == y:\n",
        "        result = \"x is same as y\"\n",
        "    else:\n",
        "        result = \"x is greater than y\"\n",
        "    print(result)\n",
        "\n",
        "    # conditional statements let you use \"a if C else b\"\n",
        "    result = \"x is less than y\" if (x < y) else \"x is greater than or equal to y\"\n",
        "    print(result)\n",
        "\n",
        "    # new in Python 3.10\n",
        "    # the match-case construct can be used for multiple comparisons\n",
        "    value = \"one\"\n",
        "    match value:\n",
        "        case \"one\":\n",
        "            result = 1\n",
        "        case \"two\":\n",
        "            result = 2\n",
        "        case \"three\" | \"four\":\n",
        "            result = (3, 4)\n",
        "        case _:\n",
        "            result = -1\n",
        "    print(result)\n",
        "\n",
        "if __name__ == \"__main__\":\n",
        "    main()\n"
      ],
      "metadata": {
        "colab": {
          "base_uri": "https://localhost:8080/"
        },
        "id": "ihkBb_dAviBI",
        "outputId": "dea57661-fee7-43d1-830d-0dc0cf2cf837"
      },
      "execution_count": null,
      "outputs": [
        {
          "output_type": "stream",
          "name": "stdout",
          "text": [
            "x is less than y\n",
            "x is less than y\n",
            "1\n"
          ]
        }
      ]
    },
    {
      "cell_type": "markdown",
      "source": [
        "##(3) Loops"
      ],
      "metadata": {
        "id": "HB64FG-aZ1l6"
      }
    },
    {
      "cell_type": "code",
      "source": [
        "#\n",
        "# Example file for working with loops\n",
        "# LinkedIn Learning Python course by Joe Marini\n",
        "#\n",
        "\n",
        "\n",
        "def main():\n",
        "    x = 0\n",
        "\n",
        "    # define a while loop\n",
        "    while (x < 5):\n",
        "        print(x)\n",
        "        x = x + 1\n",
        "\n",
        "    # define a for loop\n",
        "    for x in range(5,10):\n",
        "        print (x)\n",
        "\n",
        "    # use a for loop over a collection\n",
        "    days = [\"Mon\",\"Tue\",\"Wed\",\"Thu\",\"Fri\",\"Sat\",\"Sun\"]\n",
        "    for d in days:\n",
        "        print (d)\n",
        "\n",
        "    # use the break and continue statements\n",
        "    for x in range(5,10):\n",
        "        #if (x == 7): break\n",
        "        #if (x % 2 == 0): continue\n",
        "        print (x)\n",
        "\n",
        "    # using the enumerate() function to get index\n",
        "    days = [\"Mon\",\"Tue\",\"Wed\",\"Thu\",\"Fri\",\"Sat\",\"Sun\"]\n",
        "    for i, d in enumerate(days):\n",
        "        print (i, d)\n",
        "\n",
        "if __name__ == \"__main__\":\n",
        "    main()"
      ],
      "metadata": {
        "colab": {
          "base_uri": "https://localhost:8080/"
        },
        "id": "zWzFLJTxX9t2",
        "outputId": "106f1765-09d5-41f9-d447-f02facb5078c"
      },
      "execution_count": null,
      "outputs": [
        {
          "output_type": "stream",
          "name": "stdout",
          "text": [
            "0\n",
            "1\n",
            "2\n",
            "3\n",
            "4\n",
            "5\n",
            "6\n",
            "7\n",
            "8\n",
            "9\n",
            "Mon\n",
            "Tue\n",
            "Wed\n",
            "Thu\n",
            "Fri\n",
            "Sat\n",
            "Sun\n",
            "5\n",
            "6\n",
            "7\n",
            "8\n",
            "9\n",
            "1 Mon\n",
            "2 Tue\n",
            "3 Wed\n",
            "4 Thu\n",
            "5 Fri\n",
            "6 Sat\n",
            "7 Sun\n"
          ]
        }
      ]
    },
    {
      "cell_type": "markdown",
      "source": [
        "##(4) Dates and times"
      ],
      "metadata": {
        "id": "ykKvMqNGrDld"
      }
    },
    {
      "cell_type": "code",
      "source": [
        "#\n",
        "# Example file for working with date information\n",
        "# LinkedIn Learning Python course by Joe Marini\n",
        "#\n",
        "\n",
        "\n",
        "from datetime import date\n",
        "from datetime import time\n",
        "from datetime import datetime\n",
        "from datetime import timedelta\n",
        "\n",
        "def main():\n",
        "    ## DATE OBJECTS\n",
        "    # Get today's date from the simple today() method from the date class\n",
        "    today = date.today()\n",
        "    print (\"Today's date is \", today)\n",
        "\n",
        "    # print out the date's individual components\n",
        "    print (\"Date Components: \", today.day, today.month, today.year)\n",
        "\n",
        "    # retrieve today's weekday (0=Monday, 6=Sunday)\n",
        "    print (\"Today's Weekday #: \", today.weekday())\n",
        "    days = [\"monday\",\"tuesday\",\"wednesday\",\"thursday\",\"friday\",\"saturday\",\"sunday\"]\n",
        "    print (\"Which is a \" + days[today.weekday()])\n",
        "\n",
        "    ## DATETIME OBJECTS\n",
        "    # Get today's date from the datetime class\n",
        "    today = datetime.now()\n",
        "    print  (\"The current date and time is \", today)\n",
        "\n",
        "    # Get the current time\n",
        "    t = datetime.time(datetime.now())\n",
        "    print (\"The current time is \", t)\n",
        "\n",
        "    # Times and dates can be formatted using a set of predefined string\n",
        "    # control codes\n",
        "    now = datetime.now() # get the current date and time\n",
        "\n",
        "    #### Date Formatting ####\n",
        "\n",
        "    # %y/%Y - Year, %a/%A - weekday, %b/%B - month, %d - day of month\n",
        "    print (now.strftime(\"The current year is: %Y\")) # full year with century\n",
        "    print (now.strftime(\"%a, %d %B, %y\")) # abbreviated day, num, full month, abbreviated year\n",
        "\n",
        "    # %c - locale's date and time, %x - locale's date, %X - locale's time\n",
        "    print (now.strftime(\"Locale date and time: %c\"))\n",
        "    print (now.strftime(\"Locale date: %x\"))\n",
        "    print (now.strftime(\"Locale time: %X\"))\n",
        "\n",
        "    #### Time Formatting ####\n",
        "\n",
        "    # %I/%H - 12/24 Hour, %M - minute, %S - second, %p - locale's AM/PM\n",
        "    print (now.strftime(\"Current time: %I:%M:%S %p\")) # 12-Hour:Minute:Second:AM\n",
        "    print (now.strftime(\"24-hour time: %H:%M\")) # 24-Hour:Minute\n",
        "\n",
        "    # construct a basic timedelta and print it\n",
        "    print (timedelta(days=365, hours=5, minutes=1))\n",
        "\n",
        "    # print today's date\n",
        "    now = datetime.now()\n",
        "    print (\"today is: \" + str(now))\n",
        "\n",
        "    # print today's date one year from now\n",
        "    print (\"one year from now it will be: \" + str(now + timedelta(days=365)))\n",
        "\n",
        "    # create a timedelta that uses more than one argument\n",
        "    print (\"in two weeks and 3 days it will be: \" + str(now + timedelta(weeks=2, days=3)))\n",
        "\n",
        "    # calculate the date 1 week ago, formatted as a string\n",
        "    t = datetime.now() - timedelta(weeks=1)\n",
        "    s = t.strftime(\"%A %B %d, %Y\")\n",
        "    print (\"one week ago it was \" + s)\n",
        "\n",
        "    ### How many days until April Fools' Day?\n",
        "\n",
        "    today = date.today()  # get today's date\n",
        "    afd = date(today.year, 4, 1)  # get April Fool's for the same year\n",
        "    # use date comparison to see if April Fool's has already gone for this year\n",
        "    # if it has, use the replace() function to get the date for next year\n",
        "    if afd < today:\n",
        "        print (\"April Fool's day already went by %d days ago\" % ((today-afd).days))\n",
        "        afd = afd.replace(year=today.year + 1)  # if so, get the date for next year\n",
        "\n",
        "    # Now calculate the amount of time until April Fool's Day\n",
        "    time_to_afd = afd - today\n",
        "    print (\"It's just\", time_to_afd.days, \"days until next April Fools' Day!\")\n",
        "\n",
        "if __name__ == \"__main__\":\n",
        "    main()\n",
        "\n",
        "#\n",
        "# Example file for working with Calendars\n",
        "# LinkedIn Learning Python course by Joe Marini\n",
        "#\n",
        "\n",
        "# Fehler da \"german\" nicht installiert ist\n",
        "#import locale\n",
        "#locale.setlocale(locale.LC_ALL, \"german\") # use German locale; name might vary with platform\n",
        "\n",
        "import calendar\n",
        "\n",
        "# create a plain text calendar\n",
        "c = calendar.TextCalendar(calendar.SUNDAY)\n",
        "stri = c.formatmonth(2022, 1, 0, 0)\n",
        "print (stri)\n",
        "\n",
        "# create an HTML formatted calendar\n",
        "hc = calendar.HTMLCalendar(calendar.SUNDAY)\n",
        "stri = hc.formatmonth(2022, 1)\n",
        "print (stri)\n",
        "\n",
        "# loop over the days of a month\n",
        "# zeroes mean that the day of the week is in an overlapping month\n",
        "for i in c.itermonthdays(2022, 8):\n",
        "    print (i)\n",
        "\n",
        "# The Calendar module provides useful utilities for the given locale,\n",
        "# such as the names of days and months in both full and abbreviated forms\n",
        "for name in calendar.month_name:\n",
        "    print (name)\n",
        "\n",
        "for day in calendar.day_name:\n",
        "    print (day)\n",
        "\n",
        "# Calculate days based on a rule: For example, consider\n",
        "# a team meeting on the first Friday of every month.\n",
        "# To figure out what days that would be for each month,\n",
        "# we can use this script:\n",
        "print (\"Team meetings will be on:\")\n",
        "for m in range(1,13):\n",
        "    # returns an array of weeks that represent the month\n",
        "    cal = calendar.monthcalendar(2022, m)\n",
        "    # The first Friday has to be within the first two weeks\n",
        "    weekone = cal[0]\n",
        "    weektwo = cal[1]\n",
        "\n",
        "    if weekone[calendar.FRIDAY] != 0:\n",
        "        meetday = weekone[calendar.FRIDAY]\n",
        "    else:\n",
        "      # if the first friday isn't in the first week, it must be in the second\n",
        "        meetday = weektwo[calendar.FRIDAY]\n",
        "\n",
        "    print (\"%10s %2d\" % (calendar.month_name[m], meetday))\n",
        "\n"
      ],
      "metadata": {
        "colab": {
          "base_uri": "https://localhost:8080/",
          "height": 575
        },
        "id": "KGXXp0tqrIh-",
        "outputId": "ce17f889-85e7-45ef-bbd3-a752d2a2c8df"
      },
      "execution_count": 18,
      "outputs": [
        {
          "output_type": "stream",
          "name": "stdout",
          "text": [
            "Today's date is  2025-01-02\n",
            "Date Components:  2 1 2025\n",
            "Today's Weekday #:  3\n",
            "Which is a thursday\n",
            "The current date and time is  2025-01-02 20:56:53.271179\n",
            "The current time is  20:56:53.271241\n",
            "The current year is: 2025\n",
            "Thu, 02 January, 25\n",
            "Locale date and time: Thu Jan  2 20:56:53 2025\n",
            "Locale date: 01/02/25\n",
            "Locale time: 20:56:53\n",
            "Current time: 08:56:53 PM\n",
            "24-hour time: 20:56\n",
            "365 days, 5:01:00\n"
          ]
        },
        {
          "output_type": "error",
          "ename": "TypeError",
          "evalue": "'str' object is not callable",
          "traceback": [
            "\u001b[0;31m---------------------------------------------------------------------------\u001b[0m",
            "\u001b[0;31mTypeError\u001b[0m                                 Traceback (most recent call last)",
            "\u001b[0;32m<ipython-input-18-e7dab72218f7>\u001b[0m in \u001b[0;36m<cell line: 88>\u001b[0;34m()\u001b[0m\n\u001b[1;32m     87\u001b[0m \u001b[0;34m\u001b[0m\u001b[0m\n\u001b[1;32m     88\u001b[0m \u001b[0;32mif\u001b[0m \u001b[0m__name__\u001b[0m \u001b[0;34m==\u001b[0m \u001b[0;34m\"__main__\"\u001b[0m\u001b[0;34m:\u001b[0m\u001b[0;34m\u001b[0m\u001b[0;34m\u001b[0m\u001b[0m\n\u001b[0;32m---> 89\u001b[0;31m     \u001b[0mmain\u001b[0m\u001b[0;34m(\u001b[0m\u001b[0;34m)\u001b[0m\u001b[0;34m\u001b[0m\u001b[0;34m\u001b[0m\u001b[0m\n\u001b[0m\u001b[1;32m     90\u001b[0m \u001b[0;34m\u001b[0m\u001b[0m\n\u001b[1;32m     91\u001b[0m \u001b[0;31m#\u001b[0m\u001b[0;34m\u001b[0m\u001b[0;34m\u001b[0m\u001b[0m\n",
            "\u001b[0;32m<ipython-input-18-e7dab72218f7>\u001b[0m in \u001b[0;36mmain\u001b[0;34m()\u001b[0m\n\u001b[1;32m     59\u001b[0m     \u001b[0;31m# print today's date\u001b[0m\u001b[0;34m\u001b[0m\u001b[0;34m\u001b[0m\u001b[0m\n\u001b[1;32m     60\u001b[0m     \u001b[0mnow\u001b[0m \u001b[0;34m=\u001b[0m \u001b[0mdatetime\u001b[0m\u001b[0;34m.\u001b[0m\u001b[0mnow\u001b[0m\u001b[0;34m(\u001b[0m\u001b[0;34m)\u001b[0m\u001b[0;34m\u001b[0m\u001b[0;34m\u001b[0m\u001b[0m\n\u001b[0;32m---> 61\u001b[0;31m     \u001b[0mprint\u001b[0m \u001b[0;34m(\u001b[0m\u001b[0;34m\"today is: \"\u001b[0m \u001b[0;34m+\u001b[0m \u001b[0mstr\u001b[0m\u001b[0;34m(\u001b[0m\u001b[0mnow\u001b[0m\u001b[0;34m)\u001b[0m\u001b[0;34m)\u001b[0m\u001b[0;34m\u001b[0m\u001b[0;34m\u001b[0m\u001b[0m\n\u001b[0m\u001b[1;32m     62\u001b[0m \u001b[0;34m\u001b[0m\u001b[0m\n\u001b[1;32m     63\u001b[0m     \u001b[0;31m# print today's date one year from now\u001b[0m\u001b[0;34m\u001b[0m\u001b[0;34m\u001b[0m\u001b[0m\n",
            "\u001b[0;31mTypeError\u001b[0m: 'str' object is not callable"
          ]
        }
      ]
    },
    {
      "cell_type": "markdown",
      "source": [
        "##(5) XML, JSON etc."
      ],
      "metadata": {
        "id": "libP0h9GYJSj"
      }
    },
    {
      "cell_type": "code",
      "source": [
        "# eigens Beispiel: Spiegel-Online News aus RSS als XML parsen und anlisten\n",
        "#   und in JSON konvertieren und genauso anlisten\n",
        "\n",
        "import urllib.request # instead of urllib2 like in Python 2.7\n",
        "import xml.dom.minidom\n",
        "from datetime import datetime\n",
        "from dateutil import parser\n",
        "import pytz\n",
        "\n",
        "def alsJSONspeichern(xml_data):\n",
        "    #!pip install xmltodict\n",
        "    import xmltodict\n",
        "    import json\n",
        "    json_data = json.dumps(xmltodict.parse(xml_data), indent=4)\n",
        "    #with open(\"news.json\", \"w+\") as outfile:\n",
        "    #  outfile.write(json_data)\n",
        "    now = datetime.now(pytz.utc)\n",
        "    theJSON = json.loads(json.dumps(xmltodict.parse(xml_data), indent=4))\n",
        "    print(theJSON[\"rss\"][\"channel\"][\"title\"], \"/\",theJSON[\"rss\"][\"channel\"][\"lastBuildDate\"], \"\\n\")\n",
        "    for item in theJSON[\"rss\"][\"channel\"][\"item\"]:\n",
        "        pubDate_Alter = now - parser.parse(item[\"pubDate\"])\n",
        "        print('   [vor',str(int(pubDate_Alter.total_seconds() / 60)),\"min]   \",item[\"title\"])\n",
        "        print(item[\"description\"],\"\\n\")\n",
        "\n",
        "def getText(nodelist):\n",
        "    rc = []\n",
        "    for node in nodelist:\n",
        "        if node.nodeType == node.TEXT_NODE:\n",
        "            rc.append(node.data)\n",
        "    return ''.join(rc)\n",
        "\n",
        "def main():\n",
        "    # open a connection to a URL using urllib2\n",
        "    webUrl = urllib.request.urlopen(\"https://www.spiegel.de/schlagzeilen/index.rss\")\n",
        "\n",
        "    # get the result code and print it\n",
        "    #print (\"result code: \", webUrl.getcode())\n",
        "\n",
        "    # read the data from the URL and print it\n",
        "    raw = webUrl.read()\n",
        "    data = raw.decode(\"utf-8\") #byte in string konvertieren!\n",
        "\n",
        "    #!pip install beautifulsoup4\n",
        "    from bs4 import BeautifulSoup  # Import BeautifulSoup\n",
        "    # Use BeautifulSoup to parse and extract the relevant part:\n",
        "    soup = BeautifulSoup(data, 'xml')  # Parse as XML\n",
        "    rss_content = soup.find('rss')  # Find the <rss> tag\n",
        "    # Convert the cleaned content back to a string:\n",
        "    data_ohne_xml = str(rss_content)\n",
        "\n",
        "    #...das hier funktioniert nicht (\"malformed XLS\")\n",
        "    #data_ohne_xml = data.split('?>', 1)[-1].strip().split('Atom\">', 1)[-1].replace('</rss>','').strip()\n",
        "    #print (data_ohne_xml)\n",
        "\n",
        "    doc = xml.dom.minidom.parseString(data_ohne_xml)\n",
        "    #print(doc.nodeName)\n",
        "    alle_news = doc.getElementsByTagName(\"item\")\n",
        "    #print(alle_news)\n",
        "\n",
        "    for news in alle_news:\n",
        "      pubDate = news.getElementsByTagName(\"pubDate\")[0]\n",
        "      now = datetime.now(pytz.utc)\n",
        "      pubDate_Alter = now - parser.parse(getText(pubDate.childNodes))\n",
        "      title = news.getElementsByTagName(\"title\")[0]\n",
        "      #print('   [vor',str(int(pubDate_Alter.total_seconds() / 60)),\"min]   \",(getText(title.childNodes)))\n",
        "      description = news.getElementsByTagName(\"description\")[0]\n",
        "      #print(getText(description.childNodes),\"\\n\")\n",
        "\n",
        "    alsJSONspeichern(raw)\n",
        "\n",
        "if __name__ == \"__main__\":\n",
        "    main()\n"
      ],
      "metadata": {
        "colab": {
          "base_uri": "https://localhost:8080/"
        },
        "id": "LoJdJ82RYEOr",
        "outputId": "5d88311a-81ea-42ea-d6dd-38981615f6ff"
      },
      "execution_count": 12,
      "outputs": [
        {
          "output_type": "stream",
          "name": "stdout",
          "text": [
            "DER SPIEGEL - Schlagzeilen / Thu, 2 Jan 2025 21:26:00 +0100 \n",
            "\n",
            "   [vor 11 min]    Iran: Italien fordert Freilassung von inhaftierter Journalistin Cecilia Sala\n",
            "Seit dem 19. Dezember sitzt die Italienerin Cecilia Sala in Teheran in Haft – offenbar unter menschenunwürdigen Bedingungen. Nun hat das Außenministerium den Botschafter Irans einbestellt. Er weist die Vorwürfe zurück. \n",
            "\n",
            "   [vor 40 min]    Instagram-Comeback: Herzogin Meghan will für bewussten Umgang im Netz werben\n",
            "Andere nehmen sich für das neue Jahr vor, weniger auf Instagram zu surfen, die Herzogin von Sussex macht es anders: Nach Jahren der Social-Media-Abstinenz will sie dort für einen reflektierten Umgang im Netz werben. \n",
            "\n",
            "   [vor 44 min]    Magdeburg: So verschärft die Union den Ton in der Migrationsdebatte\n",
            "Eigentlich wollte Friedrich Merz die Migration nicht zum zentralen Thema des Wahlkampfs machen. Doch nach der Todesfahrt von Magdeburg scheint es mit seiner Zurückhaltung vorbei zu sein, andere ziehen nach. Ein Strategiewechsel? \n",
            "\n",
            "   [vor 61 min]    Flugzeugunglücke: Wie sicher ist Fliegen?\n",
            "In den vergangenen Wochen sind mehrere Flugzeuge verunglückt. Sie fragen sich, ob Sie dem Verkehrsmittel noch vertrauen können – und ob besonders Flüge mit Boeing-Maschinen riskant sind? Die Grafikanalyse. \n",
            "\n",
            "   [vor 79 min]    Thilo Mischke: Kulturschaffende wenden sich gegen neuen Moderator von »ttt«\n",
            "Nach der Ernennung von Thilo Mischke als Moderator von »ttt – Titel, Thesen, Temperamente« hagelte es Kritik. Nun melden sich erneut Autoren und Künstler zu Wort. Sie schließen eine Zusammenarbeit mit Mischke aus. \n",
            "\n",
            "   [vor 87 min]    Zickzack-Muster: Trauer um Rosita Missoni - Mitbegründerin des italienischen Modelabels gestorben\n",
            "Farbenfrohe Strickwaren mit den typischen Zickzackmustern – das ist das Markenzeichen des italienischen Modelabels Missoni. Nun ist mit Rosita Missoni die Mitbegründerin der Marke im Alter von 93 Jahren gestorben. \n",
            "\n",
            "   [vor 97 min]    Berlin und Vorwürfe der sexuellen Belästigung: Wie der Fall Stefan Gelbhaar die Grünen beschäftigt\n",
            "Der Grünen-Bundestagsabgeordnete Stefan Gelbhaar wehrt sich gegen Vorwürfe sexueller Gewalt. In der Partei gärt es. Wird der Berliner als Direktkandidat für den Bundestag abgelöst? \n",
            "\n",
            "   [vor 106 min]    Kugelbomben und Silvester in Berlin: Tote und Verletzte beim Jahresübergang\n",
            "Mindestens fünf Menschen starben an Silvester durch Feuerwerk – mehrere wohl durch Kugelbomben. Besonders heftig war es in Berlin. Dort fordern Politiker nun ein generelles Feuerwerksverbot. \n",
            "\n",
            "   [vor 145 min]    Herz-Emojis überall: Wie das Symbol der Liebe seine Bedeutung verliert\n",
            "Früher nutzten alle den Daumen, um im Netz Zustimmung auszudrücken. Und heute? Herzen überall. Wie sich das seit Jahrhunderten gültige Symbol für Liebe innerhalb kürzester Zeit in ein profanes Zeichen verwandelt hat. \n",
            "\n",
            "   [vor 151 min]    Israel: Ex-Verteidigungsminister Yoav Gallant zieht sich aus der Politik zurück\n",
            "Mit Benjamin Netanyahu eint ihn nur noch der gemeinsame Haftbefehl, den der Internationale Strafgerichtshof wegen des Gazakrieges ausgestellt hat: Yoav Gallant verlässt die Knesset. Zum Abschied attackiert er noch mal die Regierung. \n",
            "\n",
            "   [vor 151 min]    Masjaf: Israel bestätigt erstmals Spezialoperation gegen von Iran finanzierte Raketenfabrik in Syrien\n",
            "Sie kamen mit Helikoptern, ihr Vormarsch wurde von Kampfjets, Kriegsschiffen und Drohnen gedeckt – das Ziel: eine unterirdische Raketenfabrik tief in Syrien. Die »New York Times« hatte bereits über eine israelische Geheimoperation berichtet. Nun bestätigt die Armee den Einsatz. \n",
            "\n",
            "   [vor 157 min]    Ukraine: Schwimm-Drohne holt russischen Helikopter vom Himmel – Kyjiws neueste Tüftelei\n",
            "Über dem Schwarzen Meer haben ukrainische Seedrohnen zwei russische Hubschrauber abgeschossen. Die günstigen Boote könnten das Kräfteverhältnis auf See verändern. \n",
            "\n",
            "   [vor 171 min]    CSU-Politiker: Ehemaliger Bundesbauminister Oscar Schneider ist tot\n",
            "In den Achtzigerjahren war er Minister unter Helmut Kohl, nun ist Oscar Schneider im Alter von 97 Jahren gestorben. Markus Söder ehrte seinen Parteikollegen als »Grandseigneur der deutschen Politik«. \n",
            "\n",
            "   [vor 193 min]    Sylt: Wieder Kokain am Strand gefunden\n",
            "Anfang Dezember häuften sich Drogenfunde auf den nordfriesischen Inseln. Nun wurden auf Sylt erneut mehrere Kilogramm Kokain angespült. Der Zoll rechnet mit weiteren Paketen. \n",
            "\n",
            "   [vor 214 min]    News des Tages: Tödliche Vorfälle in den USA, Elon Musk, Gas-Transitstopp\n",
            "In den USA stellen zwei tödliche Vorfälle die Ermittler vor Rätsel. Elon Musk engagiert sich für einen Rechtsextremen. Und durch die Ukraine fließt kein russisches Gas mehr. Das ist die Lage am Donnerstagabend. \n",
            "\n",
            "   [vor 217 min]    Simbabwe: Achtjähriger überlebt fünf Tage unter Löwen und Elefanten im Wildpark\n",
            "Allein mit 40 Löwen: Ein Achtjähriger hat dieses Szenario unbeschadet überstanden. Nach mehreren Tagen wurde Tinotenda Pudu aus einem Wildpark in Simbabwe gerettet. Dabei half ihm sein Wissen über Dürregebiete. \n",
            "\n",
            "   [vor 227 min]    Las Vegas: Fahrer des explodierten Tesla Cybertrucks war aktiver Elite-Soldat\n",
            "Der Insasse des explodierten Tesla Cybertrucks war Mitglied der Green Berets. Die Elitesoldaten der U.S. Army sind unter anderem für Terrorismusbekämpfung im Einsatz. Einen Zusammenhang mit der Tat in New Orleans schließt das FBI aus. \n",
            "\n",
            "   [vor 232 min]    Stabianer Thermen in Pompeji: Sehr viel heiße Luft\n",
            "Die Stabianer Thermen zählten zu den technologisch raffiniertesten Anlagen im Römischen Reich – noch heute wecken sie Neid auf jene, die sie benutzen konnten. Erst allmählich verstehen Forschende, wie der Freizeittempel funktionierte. \n",
            "\n",
            "   [vor 237 min]    »Nosferatu«-Remake mit Lily-Rose Depp: Dieser Film verwest vor unseren Augen\n",
            "Robert Eggers hat den Horrorfilmklassiker »Nosferatu« neu aufgelegt. Lily-Rose Depp, Nicholas Hoult und Bill Skarsgård spielen die Hauptrollen. Was dem US-Regisseur fehlte, war eine originelle Idee. \n",
            "\n",
            "   [vor 269 min]    Skispringen: Andrzej Stękała spricht über seine Homosexualität\n",
            "»Ich will nicht mehr weglaufen«: Der erfolgreiche polnische Skispringer Andrzej Stękała hat sich zum ersten Mal zu seiner Homosexualität und dem Tod seines Lebensgefährten geäußert. Aus der Skisprungszene kam Unterstützung. \n",
            "\n",
            "   [vor 271 min]    Strommarkt: Woher der deutsche Strom kommt und wie viel er wirklich kostet\n",
            "Dunkelflaute, Rekordpreise und der Traum von der Rückkehr zur Atomkraft: Um Deutschlands Strom ranken sich viele Mythen. Hier finden Sie sieben Fakten und zehn Grafiken zur Stromdebatte. \n",
            "\n",
            "   [vor 295 min]    Indien: Giftmüll in Bhopal wird 40 Jahre nach Katastrophe entsorgt\n",
            "Mehr als 20.000 Menschen sind gestorben, Hunderttausende erkrankt, als 1984 Giftgas aus einer Chemiefabrik im indischen Bhopal entwich. Seit Jahrzehnten kämpfen Aktivisten für eine Aufarbeitung. Jetzt wird der Giftmüll entsorgt. \n",
            "\n",
            "   [vor 299 min]    Großbritannien: Neue Fußabdrücke von Dinosauriern entdeckt\n",
            "Die längste Spur reicht über mehr als 150 Meter: In Großbritannien hat ein Team etliche gut erhaltene Fußabdrücke von Dinosauriern freigelegt. Der Fund war Zufall. \n",
            "\n",
            "   [vor 299 min]    »Reichsbürger«-Komplex: Bundesweit 189 Personen per Haftbefehl gesucht\n",
            "Es geht um Nötigung, Urkunden­fälschung, Volksverhetzung: Bundesweit hat die Polizei zuletzt nach 189 »Reichsbürgern« und »Selbstverwaltern« gefahndet. Pro Halbjahr kommen demnach rund hundert neue Haftbefehle hinzu. \n",
            "\n",
            "   [vor 303 min]    Rumänien: Rechtsextremer Kandidat klagt gegen Annullierung der Präsidentenwahl\n",
            "Călin Georgescu hatte den ersten Wahlgang der rumänischen Präsidentenwahl gewonnen. Wegen massiver Einmischung aus Russland wurde die Wahl aber annulliert. Nun zieht der Rechtsextremist in Europa vor Gericht. \n",
            "\n",
            "   [vor 310 min]    Tesla: US-Autobauer erreicht Auslieferungsziel 2024 nicht\n",
            "Dämpfer für den US-Elektroautohersteller Tesla: Das Unternehmen hat im vergangenen Jahr weniger Fahrzeuge ausgeliefert als geplant. Anleger reagierten sofort. \n",
            "\n",
            "   [vor 335 min]    Ágnes Keleti stirbt mit 103 Jahren: Das Jahrhundertleben einer Turnerin - Nachruf\n",
            "Sie überlebte den Holocaust, später verließ sie ihre Heimat nach dem Ungarnaufstand und wurde die Turnkönigin von Olympia. Ágnes Keleti, gestorben mit 103 Jahren, lebte ein Sportleben im Spiegel der Weltereignisse. \n",
            "\n",
            "   [vor 347 min]    Reisehinweis des Auswärtigen Amtes: Vietnam verbietet sämtliche E-Zigaretten\n",
            "Sie haben einen Urlaub in Vietnam geplant? Dann sollten Sie während der Reise auf E-Zigaretten samt Zubehör verzichten. Andernfalls drohen Strafen. \n",
            "\n",
            "   [vor 349 min]    Quadrantiden kommen: Bis zu 100 pro Stunde erwartet\n",
            "Zu Jahresbeginn lässt der Meteorstrom der Quadrantiden den Nachthimmel funkeln. Wann und wo die Chancen am besten stehen, eine Sternschnuppe zu sehen. \n",
            "\n",
            "   [vor 365 min]    Gerichtsvollzieherin werden: Gehalt, Aufgaben, Gefahren\n",
            "Verschulden sich Menschen, muss Jacqueline Kollath versuchen, das Geld einzutreiben. Hier erzählt sie von abgetauchten Familien, wie sie sich vor Übergriffen schützt und ihrer Angst, zu verbittern. \n",
            "\n"
          ]
        }
      ]
    },
    {
      "cell_type": "markdown",
      "source": [
        "## (5b) HTML parsen"
      ],
      "metadata": {
        "id": "lt5HNaR7v7eB"
      }
    },
    {
      "cell_type": "code",
      "source": [
        "#\n",
        "# Example file for parsing and processing HTML\n",
        "# LinkedIn Learning Python course by Joe Marini\n",
        "#\n",
        "\n",
        "# import the HTMLParser module\n",
        "# in Python 3 you need to import from html.parser\n",
        "from html.parser import HTMLParser\n",
        "\n",
        "paragraphs = 0\n",
        "\n",
        "# create a subclass of HTMLParser and override the handler methods\n",
        "class MyHTMLParser(HTMLParser):\n",
        "    # function to handle an opening tag in the doc\n",
        "    # this will be called when the closing \">\" of the tag is reached\n",
        "    def handle_starttag(self, tag, attrs):\n",
        "        global paragraphs\n",
        "        if tag == \"p\":\n",
        "            paragraphs += 1\n",
        "\n",
        "        print (\"Encountered a start tag:\", tag)\n",
        "        pos = self.getpos() # returns a tuple indication line and character\n",
        "        print (\"\\tAt line: \", pos[0], \" position \", pos[1])\n",
        "\n",
        "        if attrs.__len__() > 0:\n",
        "            print (\"\\tAttributes:\")\n",
        "            for a in attrs:\n",
        "                print (\"\\t\", a[0],\"=\",a[1])\n",
        "\n",
        "    # function to handle character and text data (tag contents)\n",
        "    def handle_data(self, data):\n",
        "        if (data.isspace()):\n",
        "            return\n",
        "        print (\"Encountered some text data:\", data)\n",
        "        pos = self.getpos()\n",
        "        print (\"\\tAt line: \", pos[0], \" position \", pos[1])\n",
        "\n",
        "    # function to handle the processing of HTML comments\n",
        "    def handle_comment(self, data):\n",
        "        print (\"Encountered comment:\", data)\n",
        "        pos = self.getpos()\n",
        "        print (\"\\tAt line: \", pos[0], \" position \", pos[1])\n",
        "\n",
        "def main():\n",
        "    # instantiate the parser and feed it some HTML\n",
        "    parser = MyHTMLParser()\n",
        "\n",
        "    # open the sample HTML file and read it\n",
        "    f = open(\"samplehtml.html\")\n",
        "    if f.mode == \"r\":\n",
        "        contents = f.read() # read the entire file\n",
        "        parser.feed(contents)\n",
        "\n",
        "    print (\"Paragraph tags:\", paragraphs)\n",
        "\n",
        "if __name__ == \"__main__\":\n",
        "    main()\n",
        ""
      ],
      "metadata": {
        "colab": {
          "base_uri": "https://localhost:8080/"
        },
        "id": "TlwLzraWv_Jh",
        "outputId": "c2052f33-f9a0-4c70-f82a-77ea57523139"
      },
      "execution_count": 13,
      "outputs": [
        {
          "output_type": "stream",
          "name": "stdout",
          "text": [
            "Encountered a start tag: html\n",
            "\tAt line:  2  position  0\n",
            "\tAttributes:\n",
            "\t lang = en\n",
            "Encountered a start tag: head\n",
            "\tAt line:  3  position  2\n",
            "Encountered a start tag: title\n",
            "\tAt line:  4  position  4\n",
            "Encountered some text data: Sample HTML Document\n",
            "\tAt line:  4  position  11\n",
            "Encountered a start tag: body\n",
            "\tAt line:  6  position  2\n",
            "Encountered comment:  This is a comment \n",
            "\tAt line:  7  position  4\n",
            "Encountered a start tag: h1\n",
            "\tAt line:  8  position  4\n",
            "Encountered some text data: HTML Sample File\n",
            "\tAt line:  8  position  8\n",
            "Encountered a start tag: p\n",
            "\tAt line:  9  position  4\n",
            "Encountered some text data: This is some text\n",
            "\tAt line:  9  position  7\n",
            "Encountered a start tag: p\n",
            "\tAt line:  10  position  4\n",
            "Encountered a start tag: a\n",
            "\tAt line:  10  position  7\n",
            "\tAttributes:\n",
            "\t href = /contact\n",
            "Encountered some text data: Contact\n",
            "\tAt line:  10  position  26\n",
            "Paragraph tags: 2\n"
          ]
        }
      ]
    },
    {
      "cell_type": "markdown",
      "source": [
        "## Übungen"
      ],
      "metadata": {
        "id": "kwWZDIUNLXdO"
      }
    },
    {
      "cell_type": "markdown",
      "source": [
        "### (A) Übung \"Determine whether a string is a palindrome\""
      ],
      "metadata": {
        "id": "H04zM_Vwy2Gl"
      }
    },
    {
      "cell_type": "code",
      "source": [
        "# Python code​​​​​​‌‌​​​‌​‌‌‌‌‌‌‌​​​​​‌​​‌​​ below\n",
        "# Use print(\"messages...\") to debug your solution\n",
        "\n",
        "show_expected_result = False\n",
        "show_hints = False\n",
        "\n",
        "import re\n",
        "def Remove_special_characters(s):\n",
        "    s2 = re.sub(r'[^a-zA-Z]', '', s)\n",
        "    return(s2)\n",
        "\n",
        "def is_palindrome(teststr):\n",
        "    # Your code goes here.\n",
        "    s = Remove_special_characters(teststr.upper())\n",
        "    print(teststr,\"->\",s)\n",
        "    isPalin = True\n",
        "    i = 0\n",
        "    while i < len(s) / 2: #von beiden Seiten bis zur Mitte buchstabenmäßig vergleichen\n",
        "        if not s[i] == s[len(s)-i-1]:\n",
        "            isPalin = False\n",
        "            break #Abbruch bei der ersten Abweichung\n",
        "        i += 1\n",
        "    return isPalin\n",
        "\n",
        "# This is how your code will be called.\n",
        "# Your function should return whether a string is a palindrome.\n",
        "# The code will count the number of correct answers.\n",
        "total = 0\n",
        "test_words = [\"Hello World!\",\"Radar\",\"Mama?\",\"Madam, I'm Adam.\",\n",
        "    \"Race car!\"]\n",
        "for word in test_words:\n",
        "    print(is_palindrome(word),'\\n')\n"
      ],
      "metadata": {
        "colab": {
          "base_uri": "https://localhost:8080/"
        },
        "id": "IQ4Z5L-Ky3KF",
        "outputId": "07279901-8626-484b-fe16-77292d005bef"
      },
      "execution_count": null,
      "outputs": [
        {
          "output_type": "stream",
          "name": "stdout",
          "text": [
            "Hello World! -> HELLOWORLD\n",
            "False \n",
            "\n",
            "Radar -> RADAR\n",
            "True \n",
            "\n",
            "Mama? -> MAMA\n",
            "False \n",
            "\n",
            "Madam, I'm Adam. -> MADAMIMADAM\n",
            "True \n",
            "\n",
            "Race car! -> RACECAR\n",
            "True \n",
            "\n"
          ]
        }
      ]
    },
    {
      "cell_type": "markdown",
      "source": [
        "### (B) Übung \"Calculate the total size of files in a directory in bytes\""
      ],
      "metadata": {
        "id": "6uMnwuv5HNAU"
      }
    },
    {
      "cell_type": "code",
      "source": [
        "# Python code​​​​​​‌‌​​​‌‌​​​‌​‌‌​‌‌​​​​‌‌​​ below\n",
        "# Use print(\"messages...\") to debug your solution.\n",
        "\n",
        "show_expected_result = True\n",
        "show_hints = True\n",
        "\n",
        "import os\n",
        "from os import path\n",
        "\n",
        "def file_info():\n",
        "    # Your code goes here.\n",
        "    mypath=os.getcwd() #pwd\n",
        "    print(mypath)\n",
        "    mylist=os.listdir(mypath) #Liste der Files im Verzeichnis\n",
        "    size = 0\n",
        "    for myfile in mylist:\n",
        "        print(myfile,path.getsize(mypath))\n",
        "        size += path.getsize(mypath)\n",
        "    return size\n",
        "\n",
        "# This is how your code will be called.\n",
        "# You can edit this code to try different testing cases.\n",
        "print(\"Gesamtgröße des aktuellen Verzeichnisse =\", file_info())\n",
        "\n",
        "# Alternative für non-current-directories:\n",
        "# create a subdirectory called \"results\"\n",
        "#os.mkdir(\"results\")\n",
        "#\n",
        "# create the output file\n",
        "#resultsfile = open(\"results/results.txt\", \"w+\")\n",
        "#if resultsfile.mode == \"w+\":\n",
        "#    resultsfile.write(\"Total bytecount:\" + str(totalbytes) + \"\\n\")\n",
        "#    resultsfile.write(\"Files list:\\n\")\n",
        "#    resultsfile.write(\"--------------\\n\")\n",
        "#    # write the results into the file\n",
        "#    for entry in dirlist:\n",
        "#        if os.path.isfile(entry):\n",
        "#            # write the file name to the results ledger\n",
        "#            resultsfile.write(entry + \"\\n\")\n",
        "#\n",
        "#    # close the file when done\n",
        "#    resultsfile.close()"
      ],
      "metadata": {
        "id": "vkF4PPRAzLki",
        "colab": {
          "base_uri": "https://localhost:8080/"
        },
        "outputId": "4a9d81ad-79c8-4f86-af01-c4b3618726d7"
      },
      "execution_count": null,
      "outputs": [
        {
          "output_type": "stream",
          "name": "stdout",
          "text": [
            "/content\n",
            ".config 4096\n",
            "sample_data 4096\n",
            "Gesamtgröße des aktuellen Verzeichnisse = 8192\n"
          ]
        }
      ]
    },
    {
      "cell_type": "code",
      "source": [],
      "metadata": {
        "id": "OZO73kieHbRG"
      },
      "execution_count": null,
      "outputs": []
    },
    {
      "cell_type": "markdown",
      "source": [
        "###(C) Übung \"Count the number of instances of a particular weekday in a givon Month\""
      ],
      "metadata": {
        "id": "SFSLPkLPLbx8"
      }
    },
    {
      "cell_type": "code",
      "source": [
        "# Python code​​​​​​‌‌​​​‌‌​​​‌‌‌​​​​​​‌​​‌‌​ below\n",
        "# Use print(\"messages...\") to debug your solution.\n",
        "\n",
        "show_expected_result = False\n",
        "show_hints = False\n",
        "\n",
        "def count_days(year, month, whichday):\n",
        "    import calendar\n",
        "\n",
        "    c = calendar.TextCalendar(calendar.SUNDAY) #Monat anlisten zum Check\n",
        "    str = c.formatmonth(year, month, 0, 0)\n",
        "    print (str)\n",
        "\n",
        "    c = calendar.monthcalendar(year, month) #jede Woche des Monats\n",
        "    n = 0\n",
        "    for week in c:\n",
        "       print(week)\n",
        "       if week[whichday] != 0: #Wochentag existiert! (sonst 0)\n",
        "          n += 1\n",
        "    return n\n",
        "\n",
        "# This is how your code will be called.\n",
        "# You can edit this code to try different testing cases.\n",
        "testyear = 2025\n",
        "testmonth = 1 #Janaur\n",
        "testday = 2 #Mittwoch\n",
        "result = count_days(testyear, testmonth, testday)\n",
        "print(\"Anzahl=\",result)"
      ],
      "metadata": {
        "colab": {
          "base_uri": "https://localhost:8080/"
        },
        "id": "pnjsohgqLr1E",
        "outputId": "2de4d4ba-3da0-472a-d78f-eb029ac6aaa1"
      },
      "execution_count": 5,
      "outputs": [
        {
          "output_type": "stream",
          "name": "stdout",
          "text": [
            "    January 2025\n",
            "Su Mo Tu We Th Fr Sa\n",
            "          1  2  3  4\n",
            " 5  6  7  8  9 10 11\n",
            "12 13 14 15 16 17 18\n",
            "19 20 21 22 23 24 25\n",
            "26 27 28 29 30 31\n",
            "\n",
            "[0, 0, 1, 2, 3, 4, 5]\n",
            "[6, 7, 8, 9, 10, 11, 12]\n",
            "[13, 14, 15, 16, 17, 18, 19]\n",
            "[20, 21, 22, 23, 24, 25, 26]\n",
            "[27, 28, 29, 30, 31, 0, 0]\n",
            "Anzahl= 5\n"
          ]
        }
      ]
    },
    {
      "cell_type": "code",
      "source": [],
      "metadata": {
        "id": "0R3wZqcqL0-k"
      },
      "execution_count": null,
      "outputs": []
    }
  ]
}