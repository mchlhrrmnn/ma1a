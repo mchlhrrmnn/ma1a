{
  "nbformat": 4,
  "nbformat_minor": 0,
  "metadata": {
    "colab": {
      "provenance": [],
      "authorship_tag": "ABX9TyOxCjrLFP59HRmQEuM68xqO",
      "include_colab_link": true
    },
    "kernelspec": {
      "name": "python3",
      "display_name": "Python 3"
    },
    "language_info": {
      "name": "python"
    }
  },
  "cells": [
    {
      "cell_type": "markdown",
      "metadata": {
        "id": "view-in-github",
        "colab_type": "text"
      },
      "source": [
        "<a href=\"https://colab.research.google.com/github/mchlhrrmnn/ma1a/blob/main/LinkedInLearningPython1_BestOf.ipynb\" target=\"_parent\"><img src=\"https://colab.research.google.com/assets/colab-badge.svg\" alt=\"Open In Colab\"/></a>"
      ]
    },
    {
      "cell_type": "markdown",
      "source": [
        "## (1) Data Types"
      ],
      "metadata": {
        "id": "IgKGe-GFvRNC"
      }
    },
    {
      "cell_type": "code",
      "execution_count": 1,
      "metadata": {
        "colab": {
          "base_uri": "https://localhost:8080/",
          "height": 453
        },
        "id": "DCXwu01IvOV3",
        "outputId": "07a12e68-0d31-4fe6-f334-03a4e820f1bb"
      },
      "outputs": [
        {
          "output_type": "stream",
          "name": "stdout",
          "text": [
            "5\n",
            "13.2\n",
            "This is a string\n",
            "True\n",
            "[0, 1, 'two', 3.2, False]\n",
            "(0, 1, 2)\n",
            "{'one': 1, 'two': 2}\n",
            "abc\n",
            "two\n",
            "1\n",
            "[1, 3.2]\n",
            "[False, 3.2, 'two', 1, 0]\n",
            "1\n",
            "string type 123\n",
            "def\n",
            "This is a string\n"
          ]
        },
        {
          "output_type": "error",
          "ename": "NameError",
          "evalue": "name 'mystr' is not defined",
          "traceback": [
            "\u001b[0;31m---------------------------------------------------------------------------\u001b[0m",
            "\u001b[0;31mNameError\u001b[0m                                 Traceback (most recent call last)",
            "\u001b[0;32m<ipython-input-1-ec80b50b4f39>\u001b[0m in \u001b[0;36m<cell line: 53>\u001b[0;34m()\u001b[0m\n\u001b[1;32m     51\u001b[0m \u001b[0;34m\u001b[0m\u001b[0m\n\u001b[1;32m     52\u001b[0m \u001b[0;32mdel\u001b[0m \u001b[0mmystr\u001b[0m\u001b[0;34m\u001b[0m\u001b[0;34m\u001b[0m\u001b[0m\n\u001b[0;32m---> 53\u001b[0;31m \u001b[0mprint\u001b[0m \u001b[0;34m(\u001b[0m\u001b[0mmystr\u001b[0m\u001b[0;34m)\u001b[0m\u001b[0;34m\u001b[0m\u001b[0;34m\u001b[0m\u001b[0m\n\u001b[0m",
            "\u001b[0;31mNameError\u001b[0m: name 'mystr' is not defined"
          ]
        }
      ],
      "source": [
        "#\n",
        "# Example file for variables\n",
        "# LinkedIn Learning Python course by Joe Marini\n",
        "#\n",
        "\n",
        "\n",
        "# Basic data types in Python: Numbers, Strings, Booleans, Sequences, Dictionaries\n",
        "myint = 5\n",
        "myfloat = 13.2\n",
        "mystr = \"This is a string\"\n",
        "mybool = True\n",
        "mylist = [0, 1, \"two\", 3.2, False]\n",
        "mytuple = (0, 1, 2)\n",
        "mydict = {\"one\" : 1, \"two\" : 2}\n",
        "\n",
        "print(myint)\n",
        "print(myfloat)\n",
        "print(mystr)\n",
        "print(mybool)\n",
        "print(mylist)\n",
        "print(mytuple)\n",
        "print(mydict)\n",
        "\n",
        "# re-declaring a variable works\n",
        "myint = \"abc\"\n",
        "print (myint)\n",
        "\n",
        "# to access a member of a sequence type, use []\n",
        "print(mylist[2])\n",
        "print(mytuple[1])\n",
        "# use slices to get parts of a sequence\n",
        "print(mylist[1:4:2])\n",
        "# you can use slices to reverse a sequence\n",
        "print(mylist[::-1])\n",
        "\n",
        "# dictionaries are accessed via keys\n",
        "print(mydict[\"one\"])\n",
        "\n",
        "# ERROR: variables of different types cannot be combined\n",
        "#print (\"string type \" + 123)\n",
        "print (\"string type \" + str(123))\n",
        "\n",
        "# Global vs. local variables in functions\n",
        "def someFunction():\n",
        "    #global mystr\n",
        "    mystr = \"def\"\n",
        "    print (mystr)\n",
        "\n",
        "someFunction()\n",
        "print (mystr)\n",
        "\n",
        "del mystr\n",
        "print (mystr)"
      ]
    },
    {
      "cell_type": "markdown",
      "source": [
        "## (2) Conditions"
      ],
      "metadata": {
        "id": "C9d-Eg9zYFgh"
      }
    },
    {
      "cell_type": "code",
      "source": [
        "#\n",
        "# Example file for working with conditional statements\n",
        "# LinkedIn Learning Python course by Joe Marini\n",
        "#\n",
        "\n",
        "\n",
        "\n",
        "def main():\n",
        "    x, y = 10, 100\n",
        "\n",
        "    # conditional flow uses if, elif, else\n",
        "    if x < y:\n",
        "        result = \"x is less than y\"\n",
        "    elif x == y:\n",
        "        result = \"x is same as y\"\n",
        "    else:\n",
        "        result = \"x is greater than y\"\n",
        "    print(result)\n",
        "\n",
        "    # conditional statements let you use \"a if C else b\"\n",
        "    result = \"x is less than y\" if (x < y) else \"x is greater than or equal to y\"\n",
        "    print(result)\n",
        "\n",
        "    # new in Python 3.10\n",
        "    # the match-case construct can be used for multiple comparisons\n",
        "    value = \"one\"\n",
        "    match value:\n",
        "        case \"one\":\n",
        "            result = 1\n",
        "        case \"two\":\n",
        "            result = 2\n",
        "        case \"three\" | \"four\":\n",
        "            result = (3, 4)\n",
        "        case _:\n",
        "            result = -1\n",
        "    print(result)\n",
        "\n",
        "if __name__ == \"__main__\":\n",
        "    main()\n"
      ],
      "metadata": {
        "colab": {
          "base_uri": "https://localhost:8080/"
        },
        "id": "ihkBb_dAviBI",
        "outputId": "dea57661-fee7-43d1-830d-0dc0cf2cf837"
      },
      "execution_count": 2,
      "outputs": [
        {
          "output_type": "stream",
          "name": "stdout",
          "text": [
            "x is less than y\n",
            "x is less than y\n",
            "1\n"
          ]
        }
      ]
    },
    {
      "cell_type": "markdown",
      "source": [
        "##(3) Loops"
      ],
      "metadata": {
        "id": "HB64FG-aZ1l6"
      }
    },
    {
      "cell_type": "code",
      "source": [
        "#\n",
        "# Example file for working with loops\n",
        "# LinkedIn Learning Python course by Joe Marini\n",
        "#\n",
        "\n",
        "\n",
        "def main():\n",
        "    x = 0\n",
        "\n",
        "    # define a while loop\n",
        "    while (x < 5):\n",
        "        print(x)\n",
        "        x = x + 1\n",
        "\n",
        "    # define a for loop\n",
        "    for x in range(5,10):\n",
        "        print (x)\n",
        "\n",
        "    # use a for loop over a collection\n",
        "    days = [\"Mon\",\"Tue\",\"Wed\",\"Thu\",\"Fri\",\"Sat\",\"Sun\"]\n",
        "    for d in days:\n",
        "        print (d)\n",
        "\n",
        "    # use the break and continue statements\n",
        "    for x in range(5,10):\n",
        "        #if (x == 7): break\n",
        "        #if (x % 2 == 0): continue\n",
        "        print (x)\n",
        "\n",
        "    # using the enumerate() function to get index\n",
        "    days = [\"Mon\",\"Tue\",\"Wed\",\"Thu\",\"Fri\",\"Sat\",\"Sun\"]\n",
        "    for i, d in enumerate(days):\n",
        "        print (i, d)\n",
        "\n",
        "if __name__ == \"__main__\":\n",
        "    main()"
      ],
      "metadata": {
        "colab": {
          "base_uri": "https://localhost:8080/"
        },
        "id": "zWzFLJTxX9t2",
        "outputId": "106f1765-09d5-41f9-d447-f02facb5078c"
      },
      "execution_count": 4,
      "outputs": [
        {
          "output_type": "stream",
          "name": "stdout",
          "text": [
            "0\n",
            "1\n",
            "2\n",
            "3\n",
            "4\n",
            "5\n",
            "6\n",
            "7\n",
            "8\n",
            "9\n",
            "Mon\n",
            "Tue\n",
            "Wed\n",
            "Thu\n",
            "Fri\n",
            "Sat\n",
            "Sun\n",
            "5\n",
            "6\n",
            "7\n",
            "8\n",
            "9\n",
            "1 Mon\n",
            "2 Tue\n",
            "3 Wed\n",
            "4 Thu\n",
            "5 Fri\n",
            "6 Sat\n",
            "7 Sun\n"
          ]
        }
      ]
    },
    {
      "cell_type": "markdown",
      "source": [
        "### (A) Übung \"Determine whether a string is a palindrome\""
      ],
      "metadata": {
        "id": "H04zM_Vwy2Gl"
      }
    },
    {
      "cell_type": "code",
      "source": [
        "# Python code​​​​​​‌‌​​​‌​‌‌‌‌‌‌‌​​​​​‌​​‌​​ below\n",
        "# Use print(\"messages...\") to debug your solution\n",
        "\n",
        "show_expected_result = False\n",
        "show_hints = False\n",
        "\n",
        "import re\n",
        "def Remove_special_characters(s):\n",
        "    s2 = re.sub(r'[^a-zA-Z]', '', s)\n",
        "    return(s2)\n",
        "\n",
        "def is_palindrome(teststr):\n",
        "    # Your code goes here.\n",
        "    s = Remove_special_characters(teststr.upper())\n",
        "    print(teststr,\"->\",s)\n",
        "    isPalin = True\n",
        "    i = 0\n",
        "    while i < len(s) / 2:\n",
        "        if not s[i] == s[len(s)-i-1]:\n",
        "            isPalin = False\n",
        "            break\n",
        "        i += 1\n",
        "    return isPalin\n",
        "\n",
        "# This is how your code will be called.\n",
        "# Your function should return whether a string is a palindrome.\n",
        "# The code will count the number of correct answers.\n",
        "total = 0\n",
        "test_words = [\"Hello World!\",\"Radar\",\"Mama?\",\"Madam, I'm Adam.\",\n",
        "    \"Race car!\"]\n",
        "for word in test_words:\n",
        "    print(is_palindrome(word),'\\n')\n"
      ],
      "metadata": {
        "colab": {
          "base_uri": "https://localhost:8080/"
        },
        "id": "IQ4Z5L-Ky3KF",
        "outputId": "07279901-8626-484b-fe16-77292d005bef"
      },
      "execution_count": 8,
      "outputs": [
        {
          "output_type": "stream",
          "name": "stdout",
          "text": [
            "Hello World! -> HELLOWORLD\n",
            "False \n",
            "\n",
            "Radar -> RADAR\n",
            "True \n",
            "\n",
            "Mama? -> MAMA\n",
            "False \n",
            "\n",
            "Madam, I'm Adam. -> MADAMIMADAM\n",
            "True \n",
            "\n",
            "Race car! -> RACECAR\n",
            "True \n",
            "\n"
          ]
        }
      ]
    },
    {
      "cell_type": "code",
      "source": [],
      "metadata": {
        "id": "vkF4PPRAzLki"
      },
      "execution_count": null,
      "outputs": []
    }
  ]
}