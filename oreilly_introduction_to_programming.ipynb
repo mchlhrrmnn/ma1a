{
  "nbformat": 4,
  "nbformat_minor": 0,
  "metadata": {
    "colab": {
      "provenance": [],
      "authorship_tag": "ABX9TyONppqe7bh4VdPyF5Ed4Y/Q",
      "include_colab_link": true
    },
    "kernelspec": {
      "name": "python3",
      "display_name": "Python 3"
    },
    "language_info": {
      "name": "python"
    }
  },
  "cells": [
    {
      "cell_type": "markdown",
      "metadata": {
        "id": "view-in-github",
        "colab_type": "text"
      },
      "source": [
        "<a href=\"https://colab.research.google.com/github/mchlhrrmnn/ma1a/blob/main/oreilly_introduction_to_programming.ipynb\" target=\"_parent\"><img src=\"https://colab.research.google.com/assets/colab-badge.svg\" alt=\"Open In Colab\"/></a>"
      ]
    },
    {
      "cell_type": "markdown",
      "source": [
        "Beispiele aus\n",
        "https://learning.oreilly.com/course/introduction-to-programming/9781836204718/"
      ],
      "metadata": {
        "id": "4AItO-z2KvPR"
      }
    },
    {
      "cell_type": "code",
      "execution_count": 1,
      "metadata": {
        "colab": {
          "base_uri": "https://localhost:8080/"
        },
        "id": "TbrcgLryKpTB",
        "outputId": "c9f3e007-14fb-4e63-f0d3-70a0ff302561"
      },
      "outputs": [
        {
          "output_type": "execute_result",
          "data": {
            "text/plain": [
              "23"
            ]
          },
          "metadata": {},
          "execution_count": 1
        }
      ],
      "source": [
        "Ganzzahl = 42 #integer\n",
        "Kommazahl = 3.14 #float\n",
        "Zeichenkette = \"Hallo Welt\" #string\n",
        "Wahrheitswert = True #boolen\n",
        "\n",
        "zweiteGanzzahl = Ganzzahl = 23\n",
        "zweiteGanzzahl, Ganzzahl = 1, 2"
      ]
    },
    {
      "cell_type": "code",
      "source": [],
      "metadata": {
        "id": "9FCUps9LLbVm"
      },
      "execution_count": null,
      "outputs": []
    }
  ]
}