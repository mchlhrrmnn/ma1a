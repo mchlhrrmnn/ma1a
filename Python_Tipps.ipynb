{
  "nbformat": 4,
  "nbformat_minor": 0,
  "metadata": {
    "colab": {
      "provenance": [],
      "authorship_tag": "ABX9TyP5v3EynjjF3kxrYqHmR5AT",
      "include_colab_link": true
    },
    "kernelspec": {
      "name": "python3",
      "display_name": "Python 3"
    },
    "language_info": {
      "name": "python"
    }
  },
  "cells": [
    {
      "cell_type": "markdown",
      "metadata": {
        "id": "view-in-github",
        "colab_type": "text"
      },
      "source": [
        "<a href=\"https://colab.research.google.com/github/mchlhrrmnn/ma1a/blob/main/Python_Tipps.ipynb\" target=\"_parent\"><img src=\"https://colab.research.google.com/assets/colab-badge.svg\" alt=\"Open In Colab\"/></a>"
      ]
    },
    {
      "cell_type": "code",
      "execution_count": 19,
      "metadata": {
        "colab": {
          "base_uri": "https://localhost:8080/"
        },
        "id": "jFvaUKSAb7kd",
        "outputId": "b294126d-8c6b-4e7a-f048-64ce51fedcfe"
      },
      "outputs": [
        {
          "output_type": "stream",
          "name": "stdout",
          "text": [
            "1 2 3\n",
            "(1, 2, 3)\n"
          ]
        }
      ],
      "source": [
        "# check if list is empty or has none #################################\n",
        "mylist = [\"Lorem\", \"ipsum\", None]\n",
        "if all(mylist):\n",
        "    print(\"is full\")\n",
        "elif any(mylist):\n",
        "    print(\"has items but at least one none\")\n",
        "else:\n",
        "    print(\"is empty\")\n",
        "\n",
        "# Tuples versus lists ################################################\n",
        "# Tubles are hashable\n",
        "coords = set() # set, also eine Menge\n",
        "a = [1, 2] # list\n",
        "b = (2, 2) # tupel\n",
        "#coords.add(a) # falsch: TypeError: unhashable type: 'list'\n",
        "coords.add(tuple(a)) # so geht's: konvertiert list in tupel\n",
        "coords.add(b)\n",
        "print(coords) # = {(1, 2), (2, 2)}\n",
        "# Tubles are immutable, unverändertlich!\n",
        "a1 = tuple([1, 2])\n",
        "a2 = tuple([1, 2])\n",
        "a2[0] = 3 # falsch: TypeError: 'tuple' object does not support item assignment\n",
        "print(id(a1))\n",
        "print(id(a2)) # soll eigentlich selbe Memory sein...\n",
        "import sys\n",
        "# Create a list with 100,000 integers\n",
        "my_list = [i for i in range(100000)]\n",
        "# Create a tuple with the same integers\n",
        "my_tuple = tuple(my_list)\n",
        "# Check memory usage\n",
        "list_size = sys.getsizeof(my_list)\n",
        "tuple_size = sys.getsizeof(my_tuple)\n",
        "print(f\"List size: {list_size} bytes\")\n",
        "print(f\"Tuple size: {tuple_size} bytes\") # kleiner!\n",
        "# Dictionary Keys: Since tuples are immutable, they can be used as keys in dictionaries, unlike lists.\n",
        "#  This is particularly useful when you need a composite key to represent a multidimensional data point.\n",
        "locations = {\n",
        "    (40.7128, -74.0060): \"New York\",\n",
        "    (34.0522, -118.2437): \"Los Angeles\"\n",
        "}\n",
        "# Packing and unpacking\n",
        "a, b, c = (1, 2, 3)\n",
        "print (a, b, c)\n",
        "nums = a, b, c\n",
        "print(nums)\n",
        "\n",
        "\n"
      ]
    },
    {
      "cell_type": "code",
      "source": [],
      "metadata": {
        "id": "9KHCjUrRdtAs"
      },
      "execution_count": null,
      "outputs": []
    }
  ]
}