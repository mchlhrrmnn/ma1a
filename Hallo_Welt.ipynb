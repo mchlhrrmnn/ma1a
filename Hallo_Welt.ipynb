{
  "nbformat": 4,
  "nbformat_minor": 0,
  "metadata": {
    "colab": {
      "provenance": [],
      "toc_visible": true,
      "mount_file_id": "1FUDJlstY3gO85FcnESZQxGWKHAPUS2os",
      "authorship_tag": "ABX9TyOjm43FSZhmxKCNp++LV0E6",
      "include_colab_link": true
    },
    "kernelspec": {
      "name": "python3",
      "display_name": "Python 3"
    },
    "language_info": {
      "name": "python"
    }
  },
  "cells": [
    {
      "cell_type": "markdown",
      "metadata": {
        "id": "view-in-github",
        "colab_type": "text"
      },
      "source": [
        "<a href=\"https://colab.research.google.com/github/mchlhrrmnn/ma1a/blob/main/Hallo_Welt.ipynb\" target=\"_parent\"><img src=\"https://colab.research.google.com/assets/colab-badge.svg\" alt=\"Open In Colab\"/></a>"
      ]
    },
    {
      "cell_type": "code",
      "execution_count": 1,
      "metadata": {
        "colab": {
          "base_uri": "https://localhost:8080/"
        },
        "id": "GUzUE9HQy0sf",
        "outputId": "2d6e2e50-ed8b-4b4e-ebc6-0737290d54f5"
      },
      "outputs": [
        {
          "output_type": "stream",
          "name": "stdout",
          "text": [
            "Hallo Welt!\n"
          ]
        }
      ],
      "source": [
        "print(\"Hallo Welt!\")"
      ]
    },
    {
      "cell_type": "code",
      "source": [],
      "metadata": {
        "id": "_1hDFJNG1O8n"
      },
      "execution_count": null,
      "outputs": []
    }
  ]
}